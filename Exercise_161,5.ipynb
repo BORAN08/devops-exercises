{
  "nbformat": 4,
  "nbformat_minor": 0,
  "metadata": {
    "colab": {
      "name": "Exercise_161,5.ipynb",
      "provenance": [],
      "authorship_tag": "ABX9TyM6fK9/H+RefqgbM17RcTId",
      "include_colab_link": true
    },
    "kernelspec": {
      "name": "python3",
      "display_name": "Python 3"
    },
    "language_info": {
      "name": "python"
    }
  },
  "cells": [
    {
      "cell_type": "markdown",
      "metadata": {
        "id": "view-in-github",
        "colab_type": "text"
      },
      "source": [
        "<a href=\"https://colab.research.google.com/github/BORAN08/devops-exercises/blob/master/Exercise_161%2C5.ipynb\" target=\"_parent\"><img src=\"https://colab.research.google.com/assets/colab-badge.svg\" alt=\"Open In Colab\"/></a>"
      ]
    },
    {
      "cell_type": "markdown",
      "source": [
        "My friend John and I are members of the \"Fat to Fit Club (FFC)\". John is worried because each month a list with the weights of members is published and each month he is the last on the list which means he is the heaviest.\n",
        "\n",
        "I am the one who establishes the list so I told him: \"Don't worry any more, I will modify the order of the list\". It was decided to attribute a \"weight\" to numbers. The weight of a number will be from now on the sum of its digits.\n",
        "\n",
        "For example 99 will have \"weight\" 18, 100 will have \"weight\" 1 so in the list 100 will come before 99.\n",
        "\n",
        "Given a string with the weights of FFC members in normal order can you give this string ordered by \"weights\" of these numbers?\n",
        "\n",
        "Example:\n",
        "\"56 65 74 100 99 68 86 180 90\" ordered by numbers weights becomes: \n",
        "\n",
        "\"100 180 90 56 65 74 68 86 99\"\n",
        "When two numbers have the same \"weight\", let us class them as if they were strings (alphabetical ordering) and not numbers:\n",
        "\n",
        "180 is before 90 since, having the same \"weight\" (9), it comes before as a string.\n",
        "\n",
        "All numbers in the list are positive numbers and the list can be empty."
      ],
      "metadata": {
        "id": "j3I40tPsdX10"
      }
    },
    {
      "cell_type": "code",
      "execution_count": 2,
      "metadata": {
        "colab": {
          "base_uri": "https://localhost:8080/",
          "height": 35
        },
        "id": "tJTo98HfdTZx",
        "outputId": "eec3dbbb-791c-421a-fa4c-86334aba7d5b"
      },
      "outputs": [
        {
          "output_type": "execute_result",
          "data": {
            "application/vnd.google.colaboratory.intrinsic+json": {
              "type": "string"
            },
            "text/plain": [
              "'100 180 90 56 65 74 68 86 99'"
            ]
          },
          "metadata": {},
          "execution_count": 2
        }
      ],
      "source": [
        "def fit_club(s):\n",
        "  d={i:0 for i in s.split()}\n",
        "  for i in s.split():\n",
        "    for j in i:\n",
        "      d[i]+=int(j)\n",
        "  return \" \".join(sorted(d, key=d.get))\n",
        "fit_club(\"56 65 74 100 99 68 86 180 90 \")"
      ]
    },
    {
      "cell_type": "code",
      "source": [
        "# C9171 Emirhan's salute\n",
        "def FFC(list_):\n",
        "    list_1 = []\n",
        "    for i in list_:\n",
        "        temp = 0\n",
        "        for j in i:\n",
        "            temp += int(j)\n",
        "        list_1.append([temp, i])\n",
        "    sorted_list = sorted(list_1, key=lambda x: (x[0], x[1]))\n",
        "    sorted_list = ” “.join([i[1] for i in sorted_list]))\n",
        "    return sorted_list\n",
        "FFC(input(“Please enter weight list: “).split())"
      ],
      "metadata": {
        "id": "MF5HGEKXejPJ"
      },
      "execution_count": null,
      "outputs": []
    },
    {
      "cell_type": "code",
      "source": [
        "# D1302 Ayşe's salute\n",
        "weight = \"56 65 74 100 99 68 86 180 90\".split()\n",
        "dic = {}\n",
        "for i in weight:\n",
        "  sum = 0\n",
        "  for j in i:\n",
        "    sum+= int(j)\n",
        "  dic[i]= sum\n",
        "new_list = sorted(dic.items(), key=lambda x: x[1])\n",
        "print(list(map(lambda x : int(x[0]), new_list)))\n"
      ],
      "metadata": {
        "id": "mE2dV0EWesEi"
      },
      "execution_count": null,
      "outputs": []
    },
    {
      "cell_type": "code",
      "source": [
        "# D1155 Melek's salute"
      ],
      "metadata": {
        "id": "goqvZx0-fCos"
      },
      "execution_count": null,
      "outputs": []
    },
    {
      "cell_type": "markdown",
      "source": [
        "![image (16).png](data:image/png;base64,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)"
      ],
      "metadata": {
        "id": "KsA5JeTPe8zh"
      }
    }
  ]
}